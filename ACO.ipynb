{
  "cells": [
    {
      "attachments": {},
      "cell_type": "markdown",
      "metadata": {},
      "source": [
        "The code to download the dataset from kaggle: [Dataset](https://www.kaggle.com/datasets/mirzahasnine/loan-data-set)"
      ]
    },
    {
      "cell_type": "code",
      "execution_count": null,
      "metadata": {},
      "outputs": [],
      "source": [
        "! pip install -q kaggle"
      ]
    },
    {
      "cell_type": "code",
      "execution_count": 1,
      "metadata": {
        "ExecuteTime": {
          "end_time": "2023-04-19T15:46:35.173773Z",
          "start_time": "2023-04-19T15:46:34.138797Z"
        },
        "colab": {
          "base_uri": "https://localhost:8080/"
        },
        "id": "qa_uq6ZfBznW",
        "outputId": "f7d243d5-9fad-400b-a7f4-b9594391b8a3"
      },
      "outputs": [
        {
          "name": "stdout",
          "output_type": "stream",
          "text": [
            "Warning: Your Kaggle API key is readable by other users on this system! To fix this, you can run 'chmod 600 /root/.kaggle/kaggle.json'\n",
            "Downloading loan-data-set.zip to /content\n",
            "  0% 0.00/10.9k [00:00<?, ?B/s]\n",
            "100% 10.9k/10.9k [00:00<00:00, 26.1MB/s]\n"
          ]
        }
      ],
      "source": [
        "# ! mkdir ~/.kaggle\n",
        "# ! cp kaggle.json ~/.kaggle/\n",
        "# ! chmod 600 ~/.kaggle/kaggle.json\n",
        "# ! kaggle datasets download mirzahasnine/loan-data-set --unzip"
      ]
    },
    {
      "cell_type": "code",
      "execution_count": null,
      "metadata": {
        "ExecuteTime": {
          "end_time": "2023-04-19T21:28:14.573270Z",
          "start_time": "2023-04-19T21:28:13.795792Z"
        },
        "id": "esBqB_K9BznZ"
      },
      "outputs": [],
      "source": [
        "# Import necessary libraries\n",
        "from sklearn.neighbors import KNeighborsClassifier\n",
        "from sklearn.model_selection import train_test_split\n",
        "from itertools import accumulate\n",
        "from random import random\n",
        "import pandas as pd\n",
        "from sklearn.preprocessing import OneHotEncoder"
      ]
    },
    {
      "cell_type": "code",
      "execution_count": null,
      "metadata": {
        "ExecuteTime": {
          "end_time": "2023-04-19T21:28:14.589190Z",
          "start_time": "2023-04-19T21:28:14.575272Z"
        },
        "id": "VHDcynyfBzna",
        "outputId": "19fa70cf-d419-4034-9743-0496c7ac26cc"
      },
      "outputs": [
        {
          "name": "stderr",
          "output_type": "stream",
          "text": [
            "C:\\Users\\Yousr\\AppData\\Local\\Programs\\Python\\Python310\\lib\\site-packages\\sklearn\\preprocessing\\_encoders.py:808: FutureWarning: `sparse` was renamed to `sparse_output` in version 1.2 and will be removed in 1.4. `sparse_output` is ignored unless you leave `sparse` to its default value.\n",
            "  warnings.warn(\n"
          ]
        }
      ],
      "source": [
        "# Load your dataframe\n",
        "df = pd.read_csv(\"loan_train.csv\")\n",
        "\n",
        "# Get a list of all string columns\n",
        "str_cols = df.select_dtypes(include=['object']).columns.tolist()\n",
        "\n",
        "# Create an instance of the OneHotEncoder class\n",
        "encoder = OneHotEncoder(sparse=False)\n",
        "\n",
        "# Fit and transform the string columns in the dataframe\n",
        "encoded_cols = encoder.fit_transform(df[str_cols])\n",
        "\n",
        "# Get the feature names of the encoded columns\n",
        "feature_names = encoder.get_feature_names_out(str_cols)\n",
        "\n",
        "# Convert the encoded columns back to a dataframe and merge it with the original dataframe\n",
        "encoded_df = pd.DataFrame(encoded_cols, columns=feature_names)\n",
        "loan_df = pd.concat([df.drop(str_cols, axis=1), encoded_df], axis=1)\n",
        "\n",
        "loan_df = loan_df.dropna()\n",
        "\n",
        "# Split the dataset into training and testing sets\n",
        "X_train, X_test, y_train, y_test = train_test_split(loan_df.iloc[:, :-1], loan_df.iloc[:, -1], test_size=0.2,\n",
        "                                                    random_state=42)"
      ]
    },
    {
      "cell_type": "code",
      "execution_count": null,
      "metadata": {
        "ExecuteTime": {
          "end_time": "2023-04-19T21:28:14.634187Z",
          "start_time": "2023-04-19T21:28:14.590191Z"
        },
        "id": "IkbfpK_1Bzna"
      },
      "outputs": [],
      "source": [
        "# Create a function to find the best k value\n",
        "def knn_accuracy(k):\n",
        "    # Create a KNN classifier with k neighbors\n",
        "    knn = KNeighborsClassifier(n_neighbors=k).fit(X_train, y_train)\n",
        "    # Return the accuracy\n",
        "    return knn.score(X_test, y_test)"
      ]
    },
    {
      "cell_type": "code",
      "execution_count": null,
      "metadata": {
        "ExecuteTime": {
          "end_time": "2023-04-19T21:28:14.641199Z",
          "start_time": "2023-04-19T21:28:14.606865Z"
        },
        "id": "mII30b9wBznb"
      },
      "outputs": [],
      "source": [
        "def range_x(lower_bound, upper_bound, step_size):\n",
        "    while lower_bound <= upper_bound:\n",
        "        yield lower_bound\n",
        "        lower_bound += step_size\n",
        "\n",
        "def get_range(x, acc_p):\n",
        "    for i in range(len(acc_p)):\n",
        "        if x < acc_p[i]:\n",
        "            return i\n",
        "\n",
        "def get_best(result, maximum=True):\n",
        "    return result.index(max(result)) if maximum else result.index(min(result))\n",
        "\n",
        "def get_worst(result, maximum=True):\n",
        "    return result.index(min(result)) if maximum else result.index(max(result))\n",
        "\n",
        "def get_new_pheromone(evaporation_rate, t):\n",
        "    return (1 - evaporation_rate) * t\n",
        "\n",
        "def get_new_pheromone_best(best_value, worst_value, t, scale_factor):\n",
        "    return t + scale_factor * (best_value / worst_value)"
      ]
    },
    {
      "cell_type": "code",
      "execution_count": null,
      "metadata": {
        "ExecuteTime": {
          "end_time": "2023-04-19T21:28:14.642176Z",
          "start_time": "2023-04-19T21:28:14.622170Z"
        },
        "id": "Vz0BMub7Bznb"
      },
      "outputs": [],
      "source": [
        "# create ant colony optimization algorithm\n",
        "population_size = 10\n",
        "max_iter = 8\n",
        "ant_count = 5\n",
        "lower_bound = 1\n",
        "upper_bound = 20\n",
        "step_size = 1\n",
        "pheromone = 1\n",
        "scale_factor = 2\n",
        "evaporation_rate = 0.5"
      ]
    },
    {
      "cell_type": "code",
      "execution_count": null,
      "metadata": {
        "ExecuteTime": {
          "end_time": "2023-04-19T21:28:14.652178Z",
          "start_time": "2023-04-19T21:28:14.638177Z"
        },
        "id": "4ath8dLFBznb"
      },
      "outputs": [],
      "source": [
        "def f(x):\n",
        "    return knn_accuracy(x)"
      ]
    },
    {
      "cell_type": "code",
      "execution_count": null,
      "metadata": {
        "ExecuteTime": {
          "end_time": "2023-04-19T21:28:15.377625Z",
          "start_time": "2023-04-19T21:28:14.652178Z"
        },
        "id": "bC8StTNrBznc",
        "outputId": "c542e1ea-cc10-4fe8-9df1-3163a29abe26"
      },
      "outputs": [
        {
          "name": "stdout",
          "output_type": "stream",
          "text": [
            "iteration 1\n",
            "best_value = 0.6909090909090909, worst_value = 0.6181818181818182\n",
            "best_x = 19, worst_x= 6\n",
            "\n",
            "iteration 2\n",
            "best_value = 0.6909090909090909, worst_value = 0.6090909090909091\n",
            "best_x = 19, worst_x= 1\n",
            "\n",
            "iteration 3\n",
            "best_value = 0.6909090909090909, worst_value = 0.6363636363636364\n",
            "best_x = 19, worst_x= 5\n",
            "\n",
            "iteration 4\n",
            "best_value = 0.6909090909090909, worst_value = 0.6545454545454545\n",
            "best_x = 19, worst_x= 8\n",
            "\n",
            "iteration 5\n",
            "best_value = 0.6909090909090909, worst_value = 0.6909090909090909\n",
            "best_x = 19, worst_x= 19\n",
            "\n",
            "iteration 6\n",
            "best_value = 0.6909090909090909, worst_value = 0.6909090909090909\n",
            "best_x = 19, worst_x= 19\n",
            "\n",
            "iteration 7\n",
            "best_value = 0.6909090909090909, worst_value = 0.6909090909090909\n",
            "best_x = 19, worst_x= 19\n",
            "\n",
            "iteration 8\n",
            "best_value = 0.6909090909090909, worst_value = 0.6909090909090909\n",
            "best_x = 19, worst_x= 19\n",
            "\n",
            "Test accuracy: 69.09%\n"
          ]
        }
      ],
      "source": [
        "x = list(range_x(lower_bound, upper_bound, step_size))\n",
        "T = [pheromone] * len(x)\n",
        "for iteration in range(max_iter):\n",
        "    print(f\"iteration {iteration + 1}\")\n",
        "    p = [T[i]/sum(T) for i in range(len(T))]\n",
        "    acc_p =  [round(i,3) for i in accumulate(p)]\n",
        "    rs = [random() for i in range(ant_count)] # random numbers\n",
        "    result = [f(x[get_range(i, acc_p)]) for i in rs]\n",
        "    best_index, worst_index = get_best(result, maximum=True), get_worst(result, maximum=True)\n",
        "    best_value, worst_value = result[best_index], result[worst_index]\n",
        "    print(f\"{best_value = }, {worst_value = }\")\n",
        "    best_index, worst_index = rs[best_index], rs[worst_index]\n",
        "    best_index, worst_index = get_range(best_index, acc_p), get_range(worst_index, acc_p)\n",
        "    print(f\"best_x = {x[best_index]}, worst_x= {x[worst_index]}\")\n",
        "    not_best_ts = T[:best_index]+T[best_index + 1:]\n",
        "    first_len, last_len = len(T[:best_index]), len(T[best_index + 1:])\n",
        "    not_best_ts = [get_new_pheromone(evaporation_rate, i) for i in not_best_ts]\n",
        "    T[:best_index] = not_best_ts[:first_len]\n",
        "    T[best_index + 1:] = not_best_ts[first_len:]\n",
        "    T[best_index] = get_new_pheromone_best(best_value, worst_value, T[best_index], scale_factor)\n",
        "    print()\n",
        "print(\"Test accuracy: {:.2f}%\".format(best_value * 100))"
      ]
    }
  ],
  "metadata": {
    "colab": {
      "provenance": []
    },
    "kernelspec": {
      "display_name": "Python 3",
      "language": "python",
      "name": "python3"
    },
    "language_info": {
      "codemirror_mode": {
        "name": "ipython",
        "version": 2
      },
      "file_extension": ".py",
      "mimetype": "text/x-python",
      "name": "python",
      "nbconvert_exporter": "python",
      "pygments_lexer": "ipython2",
      "version": "2.7.6"
    }
  },
  "nbformat": 4,
  "nbformat_minor": 0
}
